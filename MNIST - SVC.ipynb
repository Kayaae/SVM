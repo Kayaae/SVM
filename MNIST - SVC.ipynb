{
 "cells": [
  {
   "cell_type": "markdown",
   "metadata": {},
   "source": [
    "# MNIST - Classification with SVC (Support Vector Classification)"
   ]
  },
  {
   "cell_type": "markdown",
   "metadata": {},
   "source": [
    "This image classification project focuses on the MNIST dataset (a dataset of handwritten numbers from 0 to 9). The classification problem is solved by:\n",
    "- Trying different SVC models (linear, polynomial, RBF)\n",
    "- Hyperparameter Tuning\n",
    "- Data Augumentation\n",
    "\n",
    "Due to limitations of RAM, the augmented dataset could not be trained. However, a final test accuracy of 97% was reached. The model was saved as 'svc_final.pkl' in line 40."
   ]
  },
  {
   "cell_type": "markdown",
   "metadata": {},
   "source": [
    "<h1 align=\"center\">- $\\infty$ -</h1> "
   ]
  },
  {
   "cell_type": "code",
   "execution_count": 1,
   "metadata": {
    "ExecuteTime": {
     "end_time": "2020-11-26T00:37:51.683206Z",
     "start_time": "2020-11-26T00:37:49.627418Z"
    }
   },
   "outputs": [],
   "source": [
    "import pandas as pd\n",
    "import numpy as np\n",
    "import matplotlib.pyplot as plt\n",
    "import seaborn as sns"
   ]
  },
  {
   "cell_type": "code",
   "execution_count": 2,
   "metadata": {
    "ExecuteTime": {
     "end_time": "2020-11-26T00:38:16.583195Z",
     "start_time": "2020-11-26T00:37:51.747991Z"
    }
   },
   "outputs": [
    {
     "data": {
      "text/plain": [
       "dict_keys(['data', 'target', 'frame', 'categories', 'feature_names', 'target_names', 'DESCR', 'details', 'url'])"
      ]
     },
     "execution_count": 2,
     "metadata": {},
     "output_type": "execute_result"
    }
   ],
   "source": [
    "from sklearn.datasets import fetch_openml\n",
    "mnist = fetch_openml('mnist_784', version=1)\n",
    "mnist.keys()"
   ]
  },
  {
   "cell_type": "code",
   "execution_count": 3,
   "metadata": {
    "ExecuteTime": {
     "end_time": "2020-11-26T00:38:16.675366Z",
     "start_time": "2020-11-26T00:38:16.641769Z"
    }
   },
   "outputs": [
    {
     "data": {
      "text/plain": [
       "\"**Author**: Yann LeCun, Corinna Cortes, Christopher J.C. Burges  \\n**Source**: [MNIST Website](http://yann.lecun.com/exdb/mnist/) - Date unknown  \\n**Please cite**:  \\n\\nThe MNIST database of handwritten digits with 784 features, raw data available at: http://yann.lecun.com/exdb/mnist/. It can be split in a training set of the first 60,000 examples, and a test set of 10,000 examples  \\n\\nIt is a subset of a larger set available from NIST. The digits have been size-normalized and centered in a fixed-size image. It is a good database for people who want to try learning techniques and pattern recognition methods on real-world data while spending minimal efforts on preprocessing and formatting. The original black and white (bilevel) images from NIST were size normalized to fit in a 20x20 pixel box while preserving their aspect ratio. The resulting images contain grey levels as a result of the anti-aliasing technique used by the normalization algorithm. the images were centered in a 28x28 image by computing the center of mass of the pixels, and translating the image so as to position this point at the center of the 28x28 field.  \\n\\nWith some classification methods (particularly template-based methods, such as SVM and K-nearest neighbors), the error rate improves when the digits are centered by bounding box rather than center of mass. If you do this kind of pre-processing, you should report it in your publications. The MNIST database was constructed from NIST's NIST originally designated SD-3 as their training set and SD-1 as their test set. However, SD-3 is much cleaner and easier to recognize than SD-1. The reason for this can be found on the fact that SD-3 was collected among Census Bureau employees, while SD-1 was collected among high-school students. Drawing sensible conclusions from learning experiments requires that the result be independent of the choice of training set and test among the complete set of samples. Therefore it was necessary to build a new database by mixing NIST's datasets.  \\n\\nThe MNIST training set is composed of 30,000 patterns from SD-3 and 30,000 patterns from SD-1. Our test set was composed of 5,000 patterns from SD-3 and 5,000 patterns from SD-1. The 60,000 pattern training set contained examples from approximately 250 writers. We made sure that the sets of writers of the training set and test set were disjoint. SD-1 contains 58,527 digit images written by 500 different writers. In contrast to SD-3, where blocks of data from each writer appeared in sequence, the data in SD-1 is scrambled. Writer identities for SD-1 is available and we used this information to unscramble the writers. We then split SD-1 in two: characters written by the first 250 writers went into our new training set. The remaining 250 writers were placed in our test set. Thus we had two sets with nearly 30,000 examples each. The new training set was completed with enough examples from SD-3, starting at pattern # 0, to make a full set of 60,000 training patterns. Similarly, the new test set was completed with SD-3 examples starting at pattern # 35,000 to make a full set with 60,000 test patterns. Only a subset of 10,000 test images (5,000 from SD-1 and 5,000 from SD-3) is available on this site. The full 60,000 sample training set is available.\\n\\nDownloaded from openml.org.\""
      ]
     },
     "execution_count": 3,
     "metadata": {},
     "output_type": "execute_result"
    }
   ],
   "source": [
    "mnist.DESCR"
   ]
  },
  {
   "cell_type": "code",
   "execution_count": 4,
   "metadata": {
    "ExecuteTime": {
     "end_time": "2020-11-26T00:38:16.773537Z",
     "start_time": "2020-11-26T00:38:16.759863Z"
    }
   },
   "outputs": [
    {
     "data": {
      "text/plain": [
       "(70000, 784)"
      ]
     },
     "execution_count": 4,
     "metadata": {},
     "output_type": "execute_result"
    }
   ],
   "source": [
    "X, y = mnist[\"data\"], mnist[\"target\"]\n",
    "X.shape"
   ]
  },
  {
   "cell_type": "code",
   "execution_count": 5,
   "metadata": {
    "ExecuteTime": {
     "end_time": "2020-11-26T00:38:17.031483Z",
     "start_time": "2020-11-26T00:38:16.828206Z"
    }
   },
   "outputs": [
    {
     "data": {
      "image/png": "[encoded data removed]",
      "text/plain": [
       "<Figure size 432x288 with 1 Axes>"
      ]
     },
     "metadata": {
      "needs_background": "light"
     },
     "output_type": "display_data"
    }
   ],
   "source": [
    "import matplotlib as mpl\n",
    "import matplotlib.pyplot as plt\n",
    "\n",
    "some_digit = X[12]\n",
    "some_digit_image = some_digit.reshape(28,28)\n",
    "\n",
    "plt.imshow(some_digit_image, cmap='binary')\n",
    "plt.axis(\"off\")\n",
    "plt.show()"
   ]
  },
  {
   "cell_type": "code",
   "execution_count": 6,
   "metadata": {
    "ExecuteTime": {
     "end_time": "2020-11-26T00:38:17.224657Z",
     "start_time": "2020-11-26T00:38:17.185847Z"
    }
   },
   "outputs": [
    {
     "name": "stdout",
     "output_type": "stream",
     "text": [
      "The ratio of numbers in the dataset:\n",
      " 1    0.112529\n",
      "7    0.104186\n",
      "3    0.102014\n",
      "2    0.099857\n",
      "9    0.099400\n",
      "0    0.098614\n",
      "6    0.098229\n",
      "8    0.097500\n",
      "4    0.097486\n",
      "5    0.090186\n",
      "Name: y, dtype: float64\n"
     ]
    }
   ],
   "source": [
    "y_df_ratio = pd.DataFrame(y, columns=[\"y\"])[\"y\"].value_counts()  / len(y)\n",
    "print(\"The ratio of numbers in the dataset:\\n\", y_df_ratio)"
   ]
  },
  {
   "cell_type": "code",
   "execution_count": 7,
   "metadata": {
    "ExecuteTime": {
     "end_time": "2020-11-26T00:38:17.445962Z",
     "start_time": "2020-11-26T00:38:17.392494Z"
    }
   },
   "outputs": [],
   "source": [
    "# Split into training and test set\n",
    "from sklearn.model_selection import train_test_split"
   ]
  },
  {
   "cell_type": "code",
   "execution_count": 8,
   "metadata": {
    "ExecuteTime": {
     "end_time": "2020-11-26T00:38:20.600657Z",
     "start_time": "2020-11-26T00:38:17.737023Z"
    }
   },
   "outputs": [],
   "source": [
    "# Random sampling\n",
    "X_train, X_test, y_train, y_test = train_test_split(X, y, test_size=0.2, random_state=42)"
   ]
  },
  {
   "cell_type": "code",
   "execution_count": 9,
   "metadata": {
    "ExecuteTime": {
     "end_time": "2020-11-26T00:38:23.731125Z",
     "start_time": "2020-11-26T00:38:20.742925Z"
    }
   },
   "outputs": [],
   "source": [
    "# Stratified sampling\n",
    "X_train_s, X_test_s, y_train_s, y_test_s = train_test_split(X, y, test_size=0.2, random_state=42, stratify=y)"
   ]
  },
  {
   "cell_type": "code",
   "execution_count": 10,
   "metadata": {
    "ExecuteTime": {
     "end_time": "2020-11-26T00:38:23.931314Z",
     "start_time": "2020-11-26T00:38:23.892613Z"
    }
   },
   "outputs": [
    {
     "data": {
      "text/html": [
       "<div>\n",
       "<style scoped>\n",
       "    .dataframe tbody tr th:only-of-type {\n",
       "        vertical-align: middle;\n",
       "    }\n",
       "\n",
       "    .dataframe tbody tr th {\n",
       "        vertical-align: top;\n",
       "    }\n",
       "\n",
       "    .dataframe thead th {\n",
       "        text-align: right;\n",
       "    }\n",
       "</style>\n",
       "<table border=\"1\" class=\"dataframe\">\n",
       "  <thead>\n",
       "    <tr style=\"text-align: right;\">\n",
       "      <th></th>\n",
       "      <th>index</th>\n",
       "      <th>population</th>\n",
       "      <th>rd_sample</th>\n",
       "      <th>strt_sample</th>\n",
       "      <th>rd_diff</th>\n",
       "      <th>strt_diff</th>\n",
       "    </tr>\n",
       "  </thead>\n",
       "  <tbody>\n",
       "    <tr>\n",
       "      <td>0</td>\n",
       "      <td>0</td>\n",
       "      <td>0.098614</td>\n",
       "      <td>0.099286</td>\n",
       "      <td>0.098607</td>\n",
       "      <td>-0.000671</td>\n",
       "      <td>0.000007</td>\n",
       "    </tr>\n",
       "    <tr>\n",
       "      <td>1</td>\n",
       "      <td>1</td>\n",
       "      <td>0.112529</td>\n",
       "      <td>0.112089</td>\n",
       "      <td>0.112536</td>\n",
       "      <td>0.000439</td>\n",
       "      <td>-0.000007</td>\n",
       "    </tr>\n",
       "    <tr>\n",
       "      <td>2</td>\n",
       "      <td>2</td>\n",
       "      <td>0.099857</td>\n",
       "      <td>0.100179</td>\n",
       "      <td>0.099857</td>\n",
       "      <td>-0.000321</td>\n",
       "      <td>0.000000</td>\n",
       "    </tr>\n",
       "    <tr>\n",
       "      <td>3</td>\n",
       "      <td>3</td>\n",
       "      <td>0.102014</td>\n",
       "      <td>0.101929</td>\n",
       "      <td>0.102018</td>\n",
       "      <td>0.000086</td>\n",
       "      <td>-0.000004</td>\n",
       "    </tr>\n",
       "    <tr>\n",
       "      <td>4</td>\n",
       "      <td>4</td>\n",
       "      <td>0.097486</td>\n",
       "      <td>0.098732</td>\n",
       "      <td>0.097482</td>\n",
       "      <td>-0.001246</td>\n",
       "      <td>0.000004</td>\n",
       "    </tr>\n",
       "    <tr>\n",
       "      <td>5</td>\n",
       "      <td>5</td>\n",
       "      <td>0.090186</td>\n",
       "      <td>0.090000</td>\n",
       "      <td>0.090196</td>\n",
       "      <td>0.000186</td>\n",
       "      <td>-0.000011</td>\n",
       "    </tr>\n",
       "    <tr>\n",
       "      <td>6</td>\n",
       "      <td>6</td>\n",
       "      <td>0.098229</td>\n",
       "      <td>0.097857</td>\n",
       "      <td>0.098232</td>\n",
       "      <td>0.000371</td>\n",
       "      <td>-0.000004</td>\n",
       "    </tr>\n",
       "    <tr>\n",
       "      <td>7</td>\n",
       "      <td>7</td>\n",
       "      <td>0.104186</td>\n",
       "      <td>0.103393</td>\n",
       "      <td>0.104179</td>\n",
       "      <td>0.000793</td>\n",
       "      <td>0.000007</td>\n",
       "    </tr>\n",
       "    <tr>\n",
       "      <td>8</td>\n",
       "      <td>8</td>\n",
       "      <td>0.097500</td>\n",
       "      <td>0.097643</td>\n",
       "      <td>0.097500</td>\n",
       "      <td>-0.000143</td>\n",
       "      <td>0.000000</td>\n",
       "    </tr>\n",
       "    <tr>\n",
       "      <td>9</td>\n",
       "      <td>9</td>\n",
       "      <td>0.099400</td>\n",
       "      <td>0.098893</td>\n",
       "      <td>0.099393</td>\n",
       "      <td>0.000507</td>\n",
       "      <td>0.000007</td>\n",
       "    </tr>\n",
       "  </tbody>\n",
       "</table>\n",
       "</div>"
      ],
      "text/plain": [
       "  index  population  rd_sample  strt_sample   rd_diff  strt_diff\n",
       "0     0    0.098614   0.099286     0.098607 -0.000671   0.000007\n",
       "1     1    0.112529   0.112089     0.112536  0.000439  -0.000007\n",
       "2     2    0.099857   0.100179     0.099857 -0.000321   0.000000\n",
       "3     3    0.102014   0.101929     0.102018  0.000086  -0.000004\n",
       "4     4    0.097486   0.098732     0.097482 -0.001246   0.000004\n",
       "5     5    0.090186   0.090000     0.090196  0.000186  -0.000011\n",
       "6     6    0.098229   0.097857     0.098232  0.000371  -0.000004\n",
       "7     7    0.104186   0.103393     0.104179  0.000793   0.000007\n",
       "8     8    0.097500   0.097643     0.097500 -0.000143   0.000000\n",
       "9     9    0.099400   0.098893     0.099393  0.000507   0.000007"
      ]
     },
     "execution_count": 10,
     "metadata": {},
     "output_type": "execute_result"
    }
   ],
   "source": [
    "# Comparing sampling methods to see the best sampling method..\n",
    "y_df_sample = pd.DataFrame(y_train, columns=[\"y\"])[\"y\"].value_counts()  / len(y_train)\n",
    "y_df_ssample = pd.DataFrame(y_train_s, columns=[\"y\"])[\"y\"].value_counts()  / len(y_train_s)\n",
    "\n",
    "pd.DataFrame({\"population\": y_df_ratio,\n",
    "             \"rd_sample\": y_df_sample,\n",
    "             \"strt_sample\": y_df_ssample,\n",
    "             \"rd_diff\": y_df_ratio-y_df_sample,\n",
    "             \"strt_diff\": y_df_ratio-y_df_ssample}).reset_index()"
   ]
  },
  {
   "cell_type": "code",
   "execution_count": 11,
   "metadata": {
    "ExecuteTime": {
     "end_time": "2020-11-26T00:38:24.113347Z",
     "start_time": "2020-11-26T00:38:24.094097Z"
    },
    "scrolled": true
   },
   "outputs": [
    {
     "name": "stderr",
     "output_type": "stream",
     "text": [
      "/Users/kaya/opt/anaconda3/lib/python3.7/site-packages/ipykernel_launcher.py:1: FutureWarning: Sorting because non-concatenation axis is not aligned. A future version\n",
      "of pandas will change to not sort by default.\n",
      "\n",
      "To accept the future behavior, pass 'sort=False'.\n",
      "\n",
      "To retain the current behavior and silence the warning, pass 'sort=True'.\n",
      "\n",
      "  \"\"\"Entry point for launching an IPython kernel.\n"
     ]
    },
    {
     "data": {
      "text/html": [
       "<div>\n",
       "<style scoped>\n",
       "    .dataframe tbody tr th:only-of-type {\n",
       "        vertical-align: middle;\n",
       "    }\n",
       "\n",
       "    .dataframe tbody tr th {\n",
       "        vertical-align: top;\n",
       "    }\n",
       "\n",
       "    .dataframe thead th {\n",
       "        text-align: right;\n",
       "    }\n",
       "</style>\n",
       "<table border=\"1\" class=\"dataframe\">\n",
       "  <thead>\n",
       "    <tr style=\"text-align: right;\">\n",
       "      <th></th>\n",
       "      <th>y</th>\n",
       "      <th>y</th>\n",
       "      <th>y</th>\n",
       "    </tr>\n",
       "  </thead>\n",
       "  <tbody>\n",
       "    <tr>\n",
       "      <td>0</td>\n",
       "      <td>0.098614</td>\n",
       "      <td>0.099286</td>\n",
       "      <td>0.098607</td>\n",
       "    </tr>\n",
       "    <tr>\n",
       "      <td>1</td>\n",
       "      <td>0.112529</td>\n",
       "      <td>0.112089</td>\n",
       "      <td>0.112536</td>\n",
       "    </tr>\n",
       "    <tr>\n",
       "      <td>2</td>\n",
       "      <td>0.099857</td>\n",
       "      <td>0.100179</td>\n",
       "      <td>0.099857</td>\n",
       "    </tr>\n",
       "    <tr>\n",
       "      <td>3</td>\n",
       "      <td>0.102014</td>\n",
       "      <td>0.101929</td>\n",
       "      <td>0.102018</td>\n",
       "    </tr>\n",
       "    <tr>\n",
       "      <td>4</td>\n",
       "      <td>0.097486</td>\n",
       "      <td>0.098732</td>\n",
       "      <td>0.097482</td>\n",
       "    </tr>\n",
       "    <tr>\n",
       "      <td>5</td>\n",
       "      <td>0.090186</td>\n",
       "      <td>0.090000</td>\n",
       "      <td>0.090196</td>\n",
       "    </tr>\n",
       "    <tr>\n",
       "      <td>6</td>\n",
       "      <td>0.098229</td>\n",
       "      <td>0.097857</td>\n",
       "      <td>0.098232</td>\n",
       "    </tr>\n",
       "    <tr>\n",
       "      <td>7</td>\n",
       "      <td>0.104186</td>\n",
       "      <td>0.103393</td>\n",
       "      <td>0.104179</td>\n",
       "    </tr>\n",
       "    <tr>\n",
       "      <td>8</td>\n",
       "      <td>0.097500</td>\n",
       "      <td>0.097643</td>\n",
       "      <td>0.097500</td>\n",
       "    </tr>\n",
       "    <tr>\n",
       "      <td>9</td>\n",
       "      <td>0.099400</td>\n",
       "      <td>0.098893</td>\n",
       "      <td>0.099393</td>\n",
       "    </tr>\n",
       "  </tbody>\n",
       "</table>\n",
       "</div>"
      ],
      "text/plain": [
       "          y         y         y\n",
       "0  0.098614  0.099286  0.098607\n",
       "1  0.112529  0.112089  0.112536\n",
       "2  0.099857  0.100179  0.099857\n",
       "3  0.102014  0.101929  0.102018\n",
       "4  0.097486  0.098732  0.097482\n",
       "5  0.090186  0.090000  0.090196\n",
       "6  0.098229  0.097857  0.098232\n",
       "7  0.104186  0.103393  0.104179\n",
       "8  0.097500  0.097643  0.097500\n",
       "9  0.099400  0.098893  0.099393"
      ]
     },
     "execution_count": 11,
     "metadata": {},
     "output_type": "execute_result"
    }
   ],
   "source": [
    "pd.concat([y_df_ratio, y_df_sample, y_df_ssample],axis=1)"
   ]
  },
  {
   "cell_type": "markdown",
   "metadata": {},
   "source": [
    "**Stratified Sampling**\n",
    "- Stratified random sampling is a sampling method that involves taking samples of a population subdivided into smaller groups called strata.\n",
    "- Stratified random sampling involves taking random samples from stratified groups, in proportion to the population.\n",
    "- Stratified random sampling is a more precise metric since it's a better representation of the overall population.\n",
    "\n",
    "\n",
    "- Took the chance to study stratified sampling. Does not really apply for this problem since the objective is to train an image recognition system and each \"number\" sample is close to 10% of the sample. However, I will used the stratified sample anyway to be close to the population distribution."
   ]
  },
  {
   "cell_type": "code",
   "execution_count": 12,
   "metadata": {
    "ExecuteTime": {
     "end_time": "2020-11-26T00:38:27.217386Z",
     "start_time": "2020-11-26T00:38:24.322743Z"
    }
   },
   "outputs": [],
   "source": [
    "# Using stratified sampling as the sampling method.\n",
    "X_train, X_test, y_train, y_test = train_test_split(X, y, test_size=0.2, random_state=42, stratify=y)"
   ]
  },
  {
   "cell_type": "code",
   "execution_count": 13,
   "metadata": {
    "ExecuteTime": {
     "end_time": "2020-11-26T00:38:27.469371Z",
     "start_time": "2020-11-26T00:38:27.374888Z"
    }
   },
   "outputs": [],
   "source": [
    "from sklearn.pipeline import Pipeline\n",
    "from sklearn.svm import LinearSVC\n",
    "from sklearn.svm import SVC\n",
    "from sklearn.preprocessing import StandardScaler\n",
    "\n",
    "svc_pipeline = Pipeline([\n",
    "    (\"scaler\", StandardScaler()),\n",
    "    (\"linear_svc\", LinearSVC(loss=\"hinge\"))\n",
    "])"
   ]
  },
  {
   "cell_type": "code",
   "execution_count": 13,
   "metadata": {
    "ExecuteTime": {
     "end_time": "2020-11-26T00:16:18.709558Z",
     "start_time": "2020-11-26T00:08:40.236315Z"
    }
   },
   "outputs": [
    {
     "name": "stderr",
     "output_type": "stream",
     "text": [
      "/Users/kaya/opt/anaconda3/lib/python3.7/site-packages/sklearn/svm/_base.py:977: ConvergenceWarning: Liblinear failed to converge, increase the number of iterations.\n",
      "  \"the number of iterations.\", ConvergenceWarning)\n"
     ]
    }
   ],
   "source": [
    "m = svc_pipeline.fit(X_train, y_train)"
   ]
  },
  {
   "cell_type": "code",
   "execution_count": 14,
   "metadata": {
    "ExecuteTime": {
     "end_time": "2020-11-26T00:16:19.370869Z",
     "start_time": "2020-11-26T00:16:18.785294Z"
    }
   },
   "outputs": [],
   "source": [
    "y_pred = m.predict(X_train)"
   ]
  },
  {
   "cell_type": "code",
   "execution_count": 15,
   "metadata": {
    "ExecuteTime": {
     "end_time": "2020-11-26T00:16:19.521918Z",
     "start_time": "2020-11-26T00:16:19.446384Z"
    }
   },
   "outputs": [
    {
     "data": {
      "text/plain": [
       "0.93075"
      ]
     },
     "execution_count": 15,
     "metadata": {},
     "output_type": "execute_result"
    }
   ],
   "source": [
    "from sklearn.metrics import accuracy_score\n",
    "accuracy_score(y_train, y_pred)"
   ]
  },
  {
   "cell_type": "code",
   "execution_count": 16,
   "metadata": {
    "ExecuteTime": {
     "end_time": "2020-11-26T00:16:19.816795Z",
     "start_time": "2020-11-26T00:16:19.583193Z"
    }
   },
   "outputs": [
    {
     "data": {
      "text/plain": [
       "array([[5405,    2,   19,    5,    7,   17,   26,    5,   34,    2],\n",
       "       [   1, 6176,   28,   14,    6,   17,    6,    8,   40,    6],\n",
       "       [  39,   26, 5144,   67,   44,   22,   47,   49,  139,   15],\n",
       "       [  11,   15,  151, 5141,    9,  142,   19,   39,  118,   68],\n",
       "       [   8,   16,   19,    8, 5179,   13,   29,   16,   32,  139],\n",
       "       [  41,   12,   36,  129,   51, 4544,   73,   13,  106,   46],\n",
       "       [  23,   14,   38,    5,   22,   82, 5275,    7,   33,    2],\n",
       "       [  17,   16,   72,   17,   48,   14,    5, 5473,   15,  157],\n",
       "       [  39,   95,   71,  128,   34,  140,   41,   33, 4815,   64],\n",
       "       [  35,   14,   21,   95,  163,   41,    2,  163,   62, 4970]])"
      ]
     },
     "execution_count": 16,
     "metadata": {},
     "output_type": "execute_result"
    }
   ],
   "source": [
    "from sklearn.metrics import confusion_matrix\n",
    "\n",
    "confusion_matrix(y_train, y_pred)"
   ]
  },
  {
   "cell_type": "markdown",
   "metadata": {},
   "source": [
    "### Linear SVC - Cross validation score"
   ]
  },
  {
   "cell_type": "markdown",
   "metadata": {},
   "source": [
    "All tests will consist of the first 1000 instances of the train set to reduce the training times."
   ]
  },
  {
   "cell_type": "code",
   "execution_count": 14,
   "metadata": {
    "ExecuteTime": {
     "end_time": "2020-11-26T00:39:16.769535Z",
     "start_time": "2020-11-26T00:39:15.610044Z"
    }
   },
   "outputs": [],
   "source": [
    "# Standardize the X_train\n",
    "std = StandardScaler()\n",
    "X_train_std = std.fit_transform(X_train)"
   ]
  },
  {
   "cell_type": "code",
   "execution_count": 37,
   "metadata": {
    "ExecuteTime": {
     "end_time": "2020-11-23T23:13:28.928360Z",
     "start_time": "2020-11-23T23:13:22.640605Z"
    }
   },
   "outputs": [
    {
     "data": {
      "text/plain": [
       "array([0.73652695, 0.76276276, 0.72972973])"
      ]
     },
     "execution_count": 37,
     "metadata": {},
     "output_type": "execute_result"
    }
   ],
   "source": [
    "## Cross-validation score\n",
    "from sklearn.model_selection import cross_val_score\n",
    "\n",
    "m_linear = LinearSVC(loss=\"hinge\")\n",
    "\n",
    "cross_val_score(m_linear, X_train_std[:1000,:], y_train[:1000], cv=3)"
   ]
  },
  {
   "cell_type": "markdown",
   "metadata": {},
   "source": [
    "### Training SVC with Polynomial Kernel"
   ]
  },
  {
   "cell_type": "code",
   "execution_count": 28,
   "metadata": {
    "ExecuteTime": {
     "end_time": "2020-11-23T22:57:58.651981Z",
     "start_time": "2020-11-23T22:57:58.645165Z"
    }
   },
   "outputs": [],
   "source": [
    "from sklearn.svm import SVC"
   ]
  },
  {
   "cell_type": "code",
   "execution_count": 43,
   "metadata": {
    "ExecuteTime": {
     "end_time": "2020-11-23T23:14:28.649501Z",
     "start_time": "2020-11-23T23:14:27.029376Z"
    }
   },
   "outputs": [
    {
     "data": {
      "text/plain": [
       "array([0.84730539, 0.87987988, 0.86786787])"
      ]
     },
     "execution_count": 43,
     "metadata": {},
     "output_type": "execute_result"
    }
   ],
   "source": [
    "m_poly = SVC(kernel=\"poly\", C=1, degree=1, gamma=\"scale\")\n",
    "\n",
    "cross_val_score(m_poly, X_train_std[:1000,:], y_train[:1000], cv=3)"
   ]
  },
  {
   "cell_type": "markdown",
   "metadata": {},
   "source": [
    "### Training SVC with RBF (distance function) Kernel"
   ]
  },
  {
   "cell_type": "code",
   "execution_count": 39,
   "metadata": {
    "ExecuteTime": {
     "end_time": "2020-11-23T23:13:43.900193Z",
     "start_time": "2020-11-23T23:13:41.544839Z"
    }
   },
   "outputs": [
    {
     "data": {
      "text/plain": [
       "array([0.85329341, 0.85585586, 0.84084084])"
      ]
     },
     "execution_count": 39,
     "metadata": {},
     "output_type": "execute_result"
    }
   ],
   "source": [
    "m_rbf = SVC(kernel=\"rbf\", C=1, gamma=\"scale\")\n",
    "\n",
    "cross_val_score(m_rbf, X_train_std[:1000,:], y_train[:1000], cv=3)"
   ]
  },
  {
   "cell_type": "markdown",
   "metadata": {},
   "source": [
    "**RBF proves to be the best kernel, we will optimize for this kernel.**"
   ]
  },
  {
   "cell_type": "markdown",
   "metadata": {},
   "source": [
    "### RandomizedSearchCV for RBF Kernel to Optimize Parameters "
   ]
  },
  {
   "cell_type": "code",
   "execution_count": 47,
   "metadata": {
    "ExecuteTime": {
     "end_time": "2020-11-23T23:29:36.138093Z",
     "start_time": "2020-11-23T23:28:44.340081Z"
    },
    "scrolled": true
   },
   "outputs": [
    {
     "name": "stdout",
     "output_type": "stream",
     "text": [
      "Fitting 3 folds for each of 15 candidates, totalling 45 fits\n",
      "[CV] C=3.785956189980184, gamma=0.06335131970954248 ..................\n"
     ]
    },
    {
     "name": "stderr",
     "output_type": "stream",
     "text": [
      "[Parallel(n_jobs=1)]: Using backend SequentialBackend with 1 concurrent workers.\n"
     ]
    },
    {
     "name": "stdout",
     "output_type": "stream",
     "text": [
      "[CV] ... C=3.785956189980184, gamma=0.06335131970954248, total=   1.1s\n",
      "[CV] C=3.785956189980184, gamma=0.06335131970954248 ..................\n"
     ]
    },
    {
     "name": "stderr",
     "output_type": "stream",
     "text": [
      "[Parallel(n_jobs=1)]: Done   1 out of   1 | elapsed:    1.1s remaining:    0.0s\n"
     ]
    },
    {
     "name": "stdout",
     "output_type": "stream",
     "text": [
      "[CV] ... C=3.785956189980184, gamma=0.06335131970954248, total=   1.0s\n",
      "[CV] C=3.785956189980184, gamma=0.06335131970954248 ..................\n",
      "[CV] ... C=3.785956189980184, gamma=0.06335131970954248, total=   1.0s\n",
      "[CV] C=2.0598478932518614, gamma=0.06512777076854923 .................\n",
      "[CV] .. C=2.0598478932518614, gamma=0.06512777076854923, total=   1.1s\n",
      "[CV] C=2.0598478932518614, gamma=0.06512777076854923 .................\n",
      "[CV] .. C=2.0598478932518614, gamma=0.06512777076854923, total=   1.0s\n",
      "[CV] C=2.0598478932518614, gamma=0.06512777076854923 .................\n",
      "[CV] .. C=2.0598478932518614, gamma=0.06512777076854923, total=   1.0s\n",
      "[CV] C=4.895565450256193, gamma=0.05617747950752761 ..................\n",
      "[CV] ... C=4.895565450256193, gamma=0.05617747950752761, total=   1.0s\n",
      "[CV] C=4.895565450256193, gamma=0.05617747950752761 ..................\n",
      "[CV] ... C=4.895565450256193, gamma=0.05617747950752761, total=   1.1s\n",
      "[CV] C=4.895565450256193, gamma=0.05617747950752761 ..................\n",
      "[CV] ... C=4.895565450256193, gamma=0.05617747950752761, total=   1.0s\n",
      "[CV] C=4.2543091712918635, gamma=0.003118120555327817 ................\n",
      "[CV] . C=4.2543091712918635, gamma=0.003118120555327817, total=   1.0s\n",
      "[CV] C=4.2543091712918635, gamma=0.003118120555327817 ................\n",
      "[CV] . C=4.2543091712918635, gamma=0.003118120555327817, total=   0.9s\n",
      "[CV] C=4.2543091712918635, gamma=0.003118120555327817 ................\n",
      "[CV] . C=4.2543091712918635, gamma=0.003118120555327817, total=   1.0s\n",
      "[CV] C=6.660581777109975, gamma=0.0010584209483924876 ................\n",
      "[CV] . C=6.660581777109975, gamma=0.0010584209483924876, total=   0.7s\n",
      "[CV] C=6.660581777109975, gamma=0.0010584209483924876 ................\n",
      "[CV] . C=6.660581777109975, gamma=0.0010584209483924876, total=   0.7s\n",
      "[CV] C=6.660581777109975, gamma=0.0010584209483924876 ................\n",
      "[CV] . C=6.660581777109975, gamma=0.0010584209483924876, total=   0.7s\n",
      "[CV] C=6.589311606603655, gamma=0.0013517563909631527 ................\n",
      "[CV] . C=6.589311606603655, gamma=0.0013517563909631527, total=   0.8s\n",
      "[CV] C=6.589311606603655, gamma=0.0013517563909631527 ................\n",
      "[CV] . C=6.589311606603655, gamma=0.0013517563909631527, total=   0.8s\n",
      "[CV] C=6.589311606603655, gamma=0.0013517563909631527 ................\n",
      "[CV] . C=6.589311606603655, gamma=0.0013517563909631527, total=   0.8s\n",
      "[CV] C=3.533268775880486, gamma=0.016618993937601526 .................\n",
      "[CV] .. C=3.533268775880486, gamma=0.016618993937601526, total=   1.0s\n",
      "[CV] C=3.533268775880486, gamma=0.016618993937601526 .................\n",
      "[CV] .. C=3.533268775880486, gamma=0.016618993937601526, total=   1.0s\n",
      "[CV] C=3.533268775880486, gamma=0.016618993937601526 .................\n",
      "[CV] .. C=3.533268775880486, gamma=0.016618993937601526, total=   1.0s\n",
      "[CV] C=4.52825570791056, gamma=0.011424284689446708 ..................\n",
      "[CV] ... C=4.52825570791056, gamma=0.011424284689446708, total=   1.0s\n",
      "[CV] C=4.52825570791056, gamma=0.011424284689446708 ..................\n",
      "[CV] ... C=4.52825570791056, gamma=0.011424284689446708, total=   1.0s\n",
      "[CV] C=4.52825570791056, gamma=0.011424284689446708 ..................\n",
      "[CV] ... C=4.52825570791056, gamma=0.011424284689446708, total=   1.0s\n",
      "[CV] C=5.43167362075593, gamma=0.0011903549248745136 .................\n",
      "[CV] .. C=5.43167362075593, gamma=0.0011903549248745136, total=   0.8s\n",
      "[CV] C=5.43167362075593, gamma=0.0011903549248745136 .................\n",
      "[CV] .. C=5.43167362075593, gamma=0.0011903549248745136, total=   0.7s\n",
      "[CV] C=5.43167362075593, gamma=0.0011903549248745136 .................\n",
      "[CV] .. C=5.43167362075593, gamma=0.0011903549248745136, total=   0.8s\n",
      "[CV] C=7.578421795041139, gamma=0.0015880452242758513 ................\n",
      "[CV] . C=7.578421795041139, gamma=0.0015880452242758513, total=   0.8s\n",
      "[CV] C=7.578421795041139, gamma=0.0015880452242758513 ................\n",
      "[CV] . C=7.578421795041139, gamma=0.0015880452242758513, total=   0.8s\n",
      "[CV] C=7.578421795041139, gamma=0.0015880452242758513 ................\n",
      "[CV] . C=7.578421795041139, gamma=0.0015880452242758513, total=   0.9s\n",
      "[CV] C=7.3441266965045, gamma=0.00524928654515529 ....................\n",
      "[CV] ..... C=7.3441266965045, gamma=0.00524928654515529, total=   1.0s\n",
      "[CV] C=7.3441266965045, gamma=0.00524928654515529 ....................\n",
      "[CV] ..... C=7.3441266965045, gamma=0.00524928654515529, total=   1.2s\n",
      "[CV] C=7.3441266965045, gamma=0.00524928654515529 ....................\n",
      "[CV] ..... C=7.3441266965045, gamma=0.00524928654515529, total=   2.4s\n",
      "[CV] C=5.838763429987879, gamma=0.005158331056366906 .................\n",
      "[CV] .. C=5.838763429987879, gamma=0.005158331056366906, total=   1.5s\n",
      "[CV] C=5.838763429987879, gamma=0.005158331056366906 .................\n",
      "[CV] .. C=5.838763429987879, gamma=0.005158331056366906, total=   1.7s\n",
      "[CV] C=5.838763429987879, gamma=0.005158331056366906 .................\n",
      "[CV] .. C=5.838763429987879, gamma=0.005158331056366906, total=   1.1s\n",
      "[CV] C=6.186374020688419, gamma=0.0050611908076272066 ................\n",
      "[CV] . C=6.186374020688419, gamma=0.0050611908076272066, total=   1.0s\n",
      "[CV] C=6.186374020688419, gamma=0.0050611908076272066 ................\n",
      "[CV] . C=6.186374020688419, gamma=0.0050611908076272066, total=   1.0s\n",
      "[CV] C=6.186374020688419, gamma=0.0050611908076272066 ................\n",
      "[CV] . C=6.186374020688419, gamma=0.0050611908076272066, total=   1.3s\n",
      "[CV] C=4.541794808571527, gamma=0.0029994582353124626 ................\n",
      "[CV] . C=4.541794808571527, gamma=0.0029994582353124626, total=   1.2s\n",
      "[CV] C=4.541794808571527, gamma=0.0029994582353124626 ................\n",
      "[CV] . C=4.541794808571527, gamma=0.0029994582353124626, total=   1.3s\n",
      "[CV] C=4.541794808571527, gamma=0.0029994582353124626 ................\n",
      "[CV] . C=4.541794808571527, gamma=0.0029994582353124626, total=   1.8s\n",
      "[CV] C=5.101286589638573, gamma=0.023743286907201053 .................\n",
      "[CV] .. C=5.101286589638573, gamma=0.023743286907201053, total=   2.1s\n",
      "[CV] C=5.101286589638573, gamma=0.023743286907201053 .................\n",
      "[CV] .. C=5.101286589638573, gamma=0.023743286907201053, total=   1.8s\n",
      "[CV] C=5.101286589638573, gamma=0.023743286907201053 .................\n",
      "[CV] .. C=5.101286589638573, gamma=0.023743286907201053, total=   1.9s\n"
     ]
    },
    {
     "name": "stderr",
     "output_type": "stream",
     "text": [
      "[Parallel(n_jobs=1)]: Done  45 out of  45 | elapsed:   50.1s finished\n"
     ]
    },
    {
     "data": {
      "text/plain": [
       "RandomizedSearchCV(cv=3, estimator=SVC(), n_iter=15,\n",
       "                   param_distributions=[{'C': <scipy.stats._distn_infrastructure.rv_frozen object at 0x12e323290>,\n",
       "                                         'gamma': <scipy.stats._distn_infrastructure.rv_frozen object at 0x12bec8fd0>}],\n",
       "                   verbose=2)"
      ]
     },
     "execution_count": 47,
     "metadata": {},
     "output_type": "execute_result"
    }
   ],
   "source": [
    "from scipy.stats import uniform, reciprocal\n",
    "from sklearn.model_selection import RandomizedSearchCV\n",
    "\n",
    "param_distributions = [{\"C\" : uniform(0.1, 10),\n",
    "                       \"gamma\": reciprocal(0.001, 0.1)}]\n",
    "svc = SVC(kernel=\"rbf\", gamma=\"scale\")\n",
    "rnd_search = RandomizedSearchCV(svc, param_distributions, cv=3, n_iter=15, verbose=2)\n",
    "rnd_search.fit(X_train_std[:1000,:], y_train[:1000])"
   ]
  },
  {
   "cell_type": "code",
   "execution_count": 48,
   "metadata": {
    "ExecuteTime": {
     "end_time": "2020-11-23T23:30:40.609358Z",
     "start_time": "2020-11-23T23:30:40.599778Z"
    }
   },
   "outputs": [
    {
     "data": {
      "text/plain": [
       "{'C': 6.660581777109975, 'gamma': 0.0010584209483924876}"
      ]
     },
     "execution_count": 48,
     "metadata": {},
     "output_type": "execute_result"
    }
   ],
   "source": [
    "rnd_search.best_params_"
   ]
  },
  {
   "cell_type": "code",
   "execution_count": 49,
   "metadata": {
    "ExecuteTime": {
     "end_time": "2020-11-23T23:31:08.799764Z",
     "start_time": "2020-11-23T23:31:08.789432Z"
    }
   },
   "outputs": [
    {
     "data": {
      "text/plain": [
       "0.8710057362751974"
      ]
     },
     "execution_count": 49,
     "metadata": {},
     "output_type": "execute_result"
    }
   ],
   "source": [
    "rnd_search.best_score_"
   ]
  },
  {
   "cell_type": "code",
   "execution_count": 60,
   "metadata": {
    "ExecuteTime": {
     "end_time": "2020-11-23T23:42:24.795672Z",
     "start_time": "2020-11-23T23:42:23.878119Z"
    }
   },
   "outputs": [],
   "source": [
    "y_train_pred = rnd_search.best_estimator_.predict(X_train_std[:1000,:])"
   ]
  },
  {
   "cell_type": "code",
   "execution_count": 61,
   "metadata": {
    "ExecuteTime": {
     "end_time": "2020-11-23T23:42:28.296445Z",
     "start_time": "2020-11-23T23:42:28.274744Z"
    }
   },
   "outputs": [
    {
     "data": {
      "text/plain": [
       "array([[106,   0,   0,   0,   0,   0,   0,   0,   0,   0],\n",
       "       [  0, 104,   0,   0,   0,   0,   0,   0,   0,   0],\n",
       "       [  0,   0, 104,   0,   0,   0,   0,   0,   0,   0],\n",
       "       [  0,   0,   0,  99,   0,   0,   0,   0,   0,   0],\n",
       "       [  0,   0,   0,   0,  87,   0,   0,   0,   0,   0],\n",
       "       [  0,   0,   0,   0,   0,  96,   0,   0,   0,   0],\n",
       "       [  0,   0,   0,   0,   0,   0,  98,   0,   0,   0],\n",
       "       [  0,   0,   0,   0,   0,   0,   0, 114,   0,   0],\n",
       "       [  0,   1,   0,   0,   0,   0,   0,   0, 102,   0],\n",
       "       [  0,   0,   0,   0,   0,   0,   0,   0,   0,  89]])"
      ]
     },
     "execution_count": 61,
     "metadata": {},
     "output_type": "execute_result"
    }
   ],
   "source": [
    "from sklearn.metrics import confusion_matrix\n",
    "\n",
    "confusion_matrix(y_train[:1000], y_train_pred)"
   ]
  },
  {
   "cell_type": "code",
   "execution_count": 62,
   "metadata": {
    "ExecuteTime": {
     "end_time": "2020-11-23T23:42:40.233378Z",
     "start_time": "2020-11-23T23:42:40.215433Z"
    }
   },
   "outputs": [
    {
     "data": {
      "text/plain": [
       "0.9989999533201074"
      ]
     },
     "execution_count": 62,
     "metadata": {},
     "output_type": "execute_result"
    }
   ],
   "source": [
    "from sklearn.metrics import f1_score\n",
    "f1_score(y_train[:1000], y_train_pred, average=\"weighted\")"
   ]
  },
  {
   "cell_type": "code",
   "execution_count": 63,
   "metadata": {
    "ExecuteTime": {
     "end_time": "2020-11-23T23:43:36.835433Z",
     "start_time": "2020-11-23T23:43:22.617722Z"
    }
   },
   "outputs": [],
   "source": [
    "X_test_std = std.fit_transform(X_test)\n",
    "y_test_pred = rnd_search.best_estimator_.predict(X_test_std)"
   ]
  },
  {
   "cell_type": "code",
   "execution_count": 64,
   "metadata": {
    "ExecuteTime": {
     "end_time": "2020-11-23T23:43:57.066305Z",
     "start_time": "2020-11-23T23:43:57.031644Z"
    }
   },
   "outputs": [
    {
     "data": {
      "text/plain": [
       "0.8905714285714286"
      ]
     },
     "execution_count": 64,
     "metadata": {},
     "output_type": "execute_result"
    }
   ],
   "source": [
    "accuracy_score(y_test, y_test_pred)"
   ]
  },
  {
   "cell_type": "code",
   "execution_count": 76,
   "metadata": {
    "ExecuteTime": {
     "end_time": "2020-11-23T23:55:29.926369Z",
     "start_time": "2020-11-23T23:55:17.019915Z"
    }
   },
   "outputs": [
    {
     "data": {
      "text/plain": [
       "<sklearn.metrics._plot.confusion_matrix.ConfusionMatrixDisplay at 0x12eb2af90>"
      ]
     },
     "execution_count": 76,
     "metadata": {},
     "output_type": "execute_result"
    },
    {
     "data": {
      "image/png": "[encoded data removed]",
      "text/plain": [
       "<Figure size 1080x1080 with 2 Axes>"
      ]
     },
     "metadata": {
      "needs_background": "light"
     },
     "output_type": "display_data"
    }
   ],
   "source": [
    "from sklearn.metrics import plot_confusion_matrix\n",
    "fig, ax = plt.subplots(figsize=(15, 15))\n",
    "plot_confusion_matrix(rnd_search.best_estimator_, X_test_std, y_test, normalize=\"true\", ax=ax)"
   ]
  },
  {
   "cell_type": "markdown",
   "metadata": {},
   "source": [
    "- As seen, the model classifies the 0, 1 and 6 very well. Would be much better if trained on the whole dataset.\n",
    "- The model seem to struggle the most with 5s"
   ]
  },
  {
   "cell_type": "code",
   "execution_count": 71,
   "metadata": {
    "ExecuteTime": {
     "end_time": "2020-11-23T23:49:46.628681Z",
     "start_time": "2020-11-23T23:49:46.498346Z"
    }
   },
   "outputs": [
    {
     "data": {
      "text/plain": [
       "0.8901316634684521"
      ]
     },
     "execution_count": 71,
     "metadata": {},
     "output_type": "execute_result"
    }
   ],
   "source": [
    "f1_score(y_test, y_test_pred, average=\"weighted\")"
   ]
  },
  {
   "cell_type": "code",
   "execution_count": 73,
   "metadata": {
    "ExecuteTime": {
     "end_time": "2020-11-23T23:52:31.166648Z",
     "start_time": "2020-11-23T23:52:31.018675Z"
    }
   },
   "outputs": [
    {
     "data": {
      "text/plain": [
       "0.8917221427537403"
      ]
     },
     "execution_count": 73,
     "metadata": {},
     "output_type": "execute_result"
    }
   ],
   "source": [
    "from sklearn.metrics import precision_score, recall_score\n",
    "precision_score(y_test, y_test_pred, average=\"weighted\")"
   ]
  },
  {
   "cell_type": "code",
   "execution_count": 74,
   "metadata": {
    "ExecuteTime": {
     "end_time": "2020-11-23T23:52:44.985393Z",
     "start_time": "2020-11-23T23:52:44.856658Z"
    }
   },
   "outputs": [
    {
     "data": {
      "text/plain": [
       "0.8905714285714286"
      ]
     },
     "execution_count": 74,
     "metadata": {},
     "output_type": "execute_result"
    }
   ],
   "source": [
    "recall_score(y_test, y_test_pred, average=\"weighted\")"
   ]
  },
  {
   "cell_type": "markdown",
   "metadata": {},
   "source": [
    "### Training Final Model "
   ]
  },
  {
   "cell_type": "code",
   "execution_count": 15,
   "metadata": {
    "ExecuteTime": {
     "end_time": "2020-11-26T04:46:08.724177Z",
     "start_time": "2020-11-26T00:45:20.273537Z"
    }
   },
   "outputs": [
    {
     "name": "stdout",
     "output_type": "stream",
     "text": [
      "Fitting 3 folds for each of 10 candidates, totalling 30 fits\n"
     ]
    },
    {
     "name": "stderr",
     "output_type": "stream",
     "text": [
      "[Parallel(n_jobs=-1)]: Using backend LokyBackend with 4 concurrent workers.\n",
      "[Parallel(n_jobs=-1)]: Done  30 out of  30 | elapsed: 229.7min finished\n"
     ]
    },
    {
     "data": {
      "text/plain": [
       "RandomizedSearchCV(cv=3, estimator=SVC(), n_jobs=-1,\n",
       "                   param_distributions=[{'C': <scipy.stats._distn_infrastructure.rv_frozen object at 0x140abca90>,\n",
       "                                         'gamma': <scipy.stats._distn_infrastructure.rv_frozen object at 0x140abcb50>}],\n",
       "                   verbose=2)"
      ]
     },
     "execution_count": 15,
     "metadata": {},
     "output_type": "execute_result"
    }
   ],
   "source": [
    "# RandomizedSearchCV focusing around the optimal parameters found above\n",
    "from scipy.stats import uniform, reciprocal\n",
    "from sklearn.model_selection import RandomizedSearchCV\n",
    "from sklearn.svm import SVC\n",
    "\n",
    "param_distributions = [{\"C\" : uniform(4, 7),\n",
    "                       \"gamma\": reciprocal(0.001, 0.01)}]\n",
    "svc = SVC(kernel=\"rbf\", gamma=\"scale\")\n",
    "rnd_search = RandomizedSearchCV(svc, param_distributions, cv=3, n_iter=10, verbose=2, n_jobs=-1)\n",
    "rnd_search.fit(X_train_std, y_train)"
   ]
  },
  {
   "cell_type": "code",
   "execution_count": 16,
   "metadata": {
    "ExecuteTime": {
     "end_time": "2020-11-26T04:46:08.874509Z",
     "start_time": "2020-11-26T04:46:08.867517Z"
    }
   },
   "outputs": [
    {
     "data": {
      "text/plain": [
       "{'C': 7.412477788674208, 'gamma': 0.0014270121434684475}"
      ]
     },
     "execution_count": 16,
     "metadata": {},
     "output_type": "execute_result"
    }
   ],
   "source": [
    "rnd_search.best_params_"
   ]
  },
  {
   "cell_type": "code",
   "execution_count": 17,
   "metadata": {
    "ExecuteTime": {
     "end_time": "2020-11-26T04:46:09.013989Z",
     "start_time": "2020-11-26T04:46:09.007846Z"
    }
   },
   "outputs": [
    {
     "data": {
      "text/plain": [
       "0.966678576190569"
      ]
     },
     "execution_count": 17,
     "metadata": {},
     "output_type": "execute_result"
    }
   ],
   "source": [
    "rnd_search.best_score_"
   ]
  },
  {
   "cell_type": "code",
   "execution_count": 32,
   "metadata": {
    "ExecuteTime": {
     "end_time": "2020-11-26T16:22:45.862171Z",
     "start_time": "2020-11-26T16:22:45.355464Z"
    }
   },
   "outputs": [],
   "source": [
    "X_test_std = std.fit_transform(X_test)"
   ]
  },
  {
   "cell_type": "code",
   "execution_count": 33,
   "metadata": {
    "ExecuteTime": {
     "end_time": "2020-11-26T16:27:28.205799Z",
     "start_time": "2020-11-26T16:23:21.060244Z"
    }
   },
   "outputs": [],
   "source": [
    "y_test_pred = rnd_search.best_estimator_.predict(X_test_std)"
   ]
  },
  {
   "cell_type": "code",
   "execution_count": 34,
   "metadata": {
    "ExecuteTime": {
     "end_time": "2020-11-26T16:27:29.042139Z",
     "start_time": "2020-11-26T16:27:29.003538Z"
    }
   },
   "outputs": [
    {
     "data": {
      "text/plain": [
       "0.9705714285714285"
      ]
     },
     "execution_count": 34,
     "metadata": {},
     "output_type": "execute_result"
    }
   ],
   "source": [
    "from sklearn.metrics import accuracy_score\n",
    "accuracy_score(y_test, y_test_pred)"
   ]
  },
  {
   "cell_type": "markdown",
   "metadata": {},
   "source": [
    "### Final Model"
   ]
  },
  {
   "cell_type": "code",
   "execution_count": 35,
   "metadata": {
    "ExecuteTime": {
     "end_time": "2020-11-26T16:43:17.884684Z",
     "start_time": "2020-11-26T16:31:45.963603Z"
    }
   },
   "outputs": [
    {
     "data": {
      "text/plain": [
       "SVC(C=7.412477788674208, gamma=0.0014270121434684475)"
      ]
     },
     "execution_count": 35,
     "metadata": {},
     "output_type": "execute_result"
    }
   ],
   "source": [
    "# Re-training the model with the whole training set on with the best parameters\n",
    "svc = SVC(kernel=\"rbf\", gamma=0.0014270121434684475, C=7.412477788674208)\n",
    "svc.fit(X_train_std, y_train)"
   ]
  },
  {
   "cell_type": "code",
   "execution_count": 36,
   "metadata": {
    "ExecuteTime": {
     "end_time": "2020-11-26T16:47:11.634504Z",
     "start_time": "2020-11-26T16:43:18.358653Z"
    }
   },
   "outputs": [],
   "source": [
    "y_test_pred = svc.predict(X_test_std)"
   ]
  },
  {
   "cell_type": "code",
   "execution_count": 37,
   "metadata": {
    "ExecuteTime": {
     "end_time": "2020-11-26T16:47:12.046507Z",
     "start_time": "2020-11-26T16:47:12.010296Z"
    }
   },
   "outputs": [
    {
     "data": {
      "text/plain": [
       "0.9705714285714285"
      ]
     },
     "execution_count": 37,
     "metadata": {},
     "output_type": "execute_result"
    }
   ],
   "source": [
    "accuracy_score(y_test, y_test_pred)"
   ]
  },
  {
   "cell_type": "code",
   "execution_count": 41,
   "metadata": {
    "ExecuteTime": {
     "end_time": "2020-11-26T17:05:03.334592Z",
     "start_time": "2020-11-26T17:00:54.643527Z"
    },
    "scrolled": false
   },
   "outputs": [
    {
     "data": {
      "text/plain": [
       "<sklearn.metrics._plot.confusion_matrix.ConfusionMatrixDisplay at 0x13c954510>"
      ]
     },
     "execution_count": 41,
     "metadata": {},
     "output_type": "execute_result"
    },
    {
     "data": {
      "image/png": "[encoded data removed]",
      "text/plain": [
       "<Figure size 1080x1080 with 2 Axes>"
      ]
     },
     "metadata": {
      "needs_background": "light"
     },
     "output_type": "display_data"
    }
   ],
   "source": [
    "from sklearn.metrics import plot_confusion_matrix\n",
    "fig, ax = plt.subplots(figsize=(15, 15))\n",
    "plot_confusion_matrix(svc, X_test_std, y_test, normalize=\"true\", ax=ax)"
   ]
  },
  {
   "cell_type": "code",
   "execution_count": 40,
   "metadata": {
    "ExecuteTime": {
     "end_time": "2020-11-26T16:55:50.377936Z",
     "start_time": "2020-11-26T16:55:50.010313Z"
    }
   },
   "outputs": [],
   "source": [
    "# Save the final model\n",
    "import pickle\n",
    "filename = 'svc_final.pkl'\n",
    "pickle.dump(svc, open(filename, 'wb'))"
   ]
  },
  {
   "cell_type": "markdown",
   "metadata": {},
   "source": [
    "#### Comparing model with simple logistic regression"
   ]
  },
  {
   "cell_type": "code",
   "execution_count": 42,
   "metadata": {
    "ExecuteTime": {
     "end_time": "2020-11-26T17:05:19.600374Z",
     "start_time": "2020-11-26T17:05:05.631292Z"
    }
   },
   "outputs": [
    {
     "name": "stderr",
     "output_type": "stream",
     "text": [
      "/Users/kaya/opt/anaconda3/lib/python3.7/site-packages/sklearn/linear_model/_logistic.py:764: ConvergenceWarning: lbfgs failed to converge (status=1):\n",
      "STOP: TOTAL NO. of ITERATIONS REACHED LIMIT.\n",
      "\n",
      "Increase the number of iterations (max_iter) or scale the data as shown in:\n",
      "    https://scikit-learn.org/stable/modules/preprocessing.html\n",
      "Please also refer to the documentation for alternative solver options:\n",
      "    https://scikit-learn.org/stable/modules/linear_model.html#logistic-regression\n",
      "  extra_warning_msg=_LOGISTIC_SOLVER_CONVERGENCE_MSG)\n"
     ]
    }
   ],
   "source": [
    "from sklearn.linear_model import LogisticRegression\n",
    "clf = LogisticRegression(random_state=0).fit(X_train_std, y_train)"
   ]
  },
  {
   "cell_type": "code",
   "execution_count": 43,
   "metadata": {
    "ExecuteTime": {
     "end_time": "2020-11-26T17:05:20.136269Z",
     "start_time": "2020-11-26T17:05:20.074340Z"
    }
   },
   "outputs": [],
   "source": [
    "y_test_pred_clf = clf.predict(X_test_std)"
   ]
  },
  {
   "cell_type": "code",
   "execution_count": 44,
   "metadata": {
    "ExecuteTime": {
     "end_time": "2020-11-26T17:05:20.604377Z",
     "start_time": "2020-11-26T17:05:20.571728Z"
    }
   },
   "outputs": [
    {
     "data": {
      "text/plain": [
       "0.9181428571428571"
      ]
     },
     "execution_count": 44,
     "metadata": {},
     "output_type": "execute_result"
    }
   ],
   "source": [
    "accuracy_score(y_test, y_test_pred_clf)"
   ]
  },
  {
   "cell_type": "markdown",
   "metadata": {},
   "source": [
    "As seen above, the standard logistic regression model got a significantly less score with a 91,8% accuracy."
   ]
  },
  {
   "cell_type": "markdown",
   "metadata": {},
   "source": [
    "# Additional Measures"
   ]
  },
  {
   "cell_type": "markdown",
   "metadata": {},
   "source": [
    "### Data Augmentation --> Could not be done, too large training set size."
   ]
  },
  {
   "cell_type": "markdown",
   "metadata": {},
   "source": [
    "The data augmentation process increases the memory size of the X_train array significantly.  \n",
    "It increases the matrix size from (56000, 784) to **(56000*7, 784) --> (392000, 784)**\n",
    "\n",
    "As the memory usage for 1 cell is 8 bytes , the total bits for the array is **2459 MB --> 2.5 GB**  \n",
    "- This causes extremely long training times for SVC, especially with hyperparamater optimization, hence Im leaving out the Data Augmentation from this project.\n",
    "- It overloads my MAC RAM memory, as my RAM usage is around 6GB without the python application (8GB Max RAM)"
   ]
  },
  {
   "cell_type": "code",
   "execution_count": 14,
   "metadata": {
    "ExecuteTime": {
     "end_time": "2020-11-26T00:27:34.641243Z",
     "start_time": "2020-11-26T00:27:34.635807Z"
    }
   },
   "outputs": [],
   "source": [
    "from scipy.ndimage.interpolation import shift, rotate"
   ]
  },
  {
   "cell_type": "code",
   "execution_count": 15,
   "metadata": {
    "ExecuteTime": {
     "end_time": "2020-11-26T00:27:35.767300Z",
     "start_time": "2020-11-26T00:27:35.759466Z"
    }
   },
   "outputs": [],
   "source": [
    "def shift_image(image, dx, dy):\n",
    "    image = image.reshape((28,28))\n",
    "    shifted_image = shift(image, [dx, dy], cval=0, mode=\"constant\")\n",
    "    return shifted_image.reshape([-1])"
   ]
  },
  {
   "cell_type": "code",
   "execution_count": 16,
   "metadata": {
    "ExecuteTime": {
     "end_time": "2020-11-26T00:27:35.990778Z",
     "start_time": "2020-11-26T00:27:35.984334Z"
    }
   },
   "outputs": [],
   "source": [
    "def rotate_image(image, deg):\n",
    "    image = image.reshape((28,28))\n",
    "    rotated_image = rotate(image, deg, reshape=False)\n",
    "    return rotated_image.reshape([-1])"
   ]
  },
  {
   "cell_type": "code",
   "execution_count": 17,
   "metadata": {
    "ExecuteTime": {
     "end_time": "2020-11-26T00:27:36.859909Z",
     "start_time": "2020-11-26T00:27:36.502187Z"
    }
   },
   "outputs": [
    {
     "data": {
      "image/png": "[encoded data removed]",
      "text/plain": [
       "<Figure size 864x216 with 3 Axes>"
      ]
     },
     "metadata": {
      "needs_background": "light"
     },
     "output_type": "display_data"
    }
   ],
   "source": [
    "image = X_train[1000]\n",
    "shifted_image_down = shift_image(image, 3, 0)\n",
    "shifted_image_left = shift_image(image, 0, -3)\n",
    "\n",
    "plt.figure(figsize=(12,3))\n",
    "plt.subplot(131)\n",
    "plt.title(\"Original\", fontsize=14)\n",
    "plt.imshow(image.reshape(28, 28), interpolation=\"nearest\", cmap=\"Greys\")\n",
    "plt.subplot(132)\n",
    "plt.title(\"Shifted down\", fontsize=14)\n",
    "plt.imshow(shifted_image_down.reshape(28, 28), interpolation=\"nearest\", cmap=\"Greys\")\n",
    "plt.subplot(133)\n",
    "plt.title(\"Shifted left\", fontsize=14)\n",
    "plt.imshow(shifted_image_left.reshape(28, 28), interpolation=\"nearest\", cmap=\"Greys\")\n",
    "plt.show()"
   ]
  },
  {
   "cell_type": "code",
   "execution_count": 18,
   "metadata": {
    "ExecuteTime": {
     "end_time": "2020-11-26T00:27:37.466704Z",
     "start_time": "2020-11-26T00:27:37.096136Z"
    }
   },
   "outputs": [
    {
     "data": {
      "image/png": "[encoded data removed]",
      "text/plain": [
       "<Figure size 864x216 with 3 Axes>"
      ]
     },
     "metadata": {
      "needs_background": "light"
     },
     "output_type": "display_data"
    }
   ],
   "source": [
    "image = X_train[1100]\n",
    "rotated_image_right = rotate_image(image, -12)\n",
    "rotated_image_left = rotate_image(image, 12)\n",
    "\n",
    "plt.figure(figsize=(12,3))\n",
    "plt.subplot(131)\n",
    "plt.title(\"Original\", fontsize=14)\n",
    "plt.imshow(image.reshape(28, 28), interpolation=\"nearest\", cmap=\"Greys\")\n",
    "plt.subplot(132)\n",
    "plt.title(\"Rotated 15 degrees to the right\", fontsize=14)\n",
    "plt.imshow(rotated_image_right.reshape(28, 28), interpolation=\"nearest\", cmap=\"Greys\")\n",
    "plt.subplot(133)\n",
    "plt.title(\"Rotated 15 degrees to the left\", fontsize=14)\n",
    "plt.imshow(rotated_image_left.reshape(28, 28), interpolation=\"nearest\", cmap=\"Greys\")\n",
    "plt.show()"
   ]
  },
  {
   "cell_type": "code",
   "execution_count": 19,
   "metadata": {
    "ExecuteTime": {
     "end_time": "2020-11-26T00:28:04.703016Z",
     "start_time": "2020-11-26T00:27:39.598298Z"
    }
   },
   "outputs": [],
   "source": [
    "X_train_augmented = [image for image in X_train]\n",
    "y_train_augmented = [label for label in y_train]\n",
    "\n",
    "# Adding shifted images to the dataset --> TOO LARGE FOR TRAINING.\n",
    "for dx, dy in ((1, 0), (0, 1), (-1, 0), (0, -1)):\n",
    "    for image, label in zip(X_train, y_train):\n",
    "        X_train_augmented.append(shift_image(image, dx, dy))\n",
    "        y_train_augmented.append(label)\n",
    "\n",
    "# Adding rotated images to the dataset\n",
    "for deg in [12, -12]:\n",
    "    for image, label in zip(X_train, y_train):\n",
    "        X_train_augmented.append(rotate_image(image, deg))\n",
    "        y_train_augmented.append(label)"
   ]
  },
  {
   "cell_type": "code",
   "execution_count": null,
   "metadata": {
    "ExecuteTime": {
     "start_time": "2020-11-26T00:28:34.123Z"
    }
   },
   "outputs": [],
   "source": [
    "print(\"X Shape\", X_train_augmented.shape)\n",
    "print(\"y Shape\", y_train_augmented.shape)"
   ]
  },
  {
   "cell_type": "code",
   "execution_count": null,
   "metadata": {},
   "outputs": [],
   "source": [
    "# Standardize the X_train_augumented\n",
    "X_train_aug_std = std.fit_transform(X_train_augmented)"
   ]
  },
  {
   "cell_type": "code",
   "execution_count": null,
   "metadata": {},
   "outputs": [],
   "source": [
    "param_distributions = [{\"C\" : uniform(4, 7),\n",
    "                       \"gamma\": reciprocal(0.001, 0.1)}]\n",
    "svc = SVC(kernel=\"rbf\", gamma=\"scale\")\n",
    "rnd_search = RandomizedSearchCV(svc, param_distributions, cv=3, n_iter=5, verbose=2)\n",
    "rnd_search.fit(X_train_augmented, y_train_augmented)"
   ]
  }
 ],
 "metadata": {
  "kernelspec": {
   "display_name": "Python 3",
   "language": "python",
   "name": "python3"
  },
  "language_info": {
   "codemirror_mode": {
    "name": "ipython",
    "version": 3
   },
   "file_extension": ".py",
   "mimetype": "text/x-python",
   "name": "python",
   "nbconvert_exporter": "python",
   "pygments_lexer": "ipython3",
   "version": "3.7.4"
  },
  "toc": {
   "base_numbering": 1,
   "nav_menu": {},
   "number_sections": false,
   "sideBar": true,
   "skip_h1_title": false,
   "title_cell": "Table of Contents",
   "title_sidebar": "Contents",
   "toc_cell": false,
   "toc_position": {},
   "toc_section_display": true,
   "toc_window_display": false
  },
  "varInspector": {
   "cols": {
    "lenName": 16,
    "lenType": 16,
    "lenVar": 40
   },
   "kernels_config": {
    "python": {
     "delete_cmd_postfix": "",
     "delete_cmd_prefix": "del ",
     "library": "var_list.py",
     "varRefreshCmd": "print(var_dic_list())"
    },
    "r": {
     "delete_cmd_postfix": ") ",
     "delete_cmd_prefix": "rm(",
     "library": "var_list.r",
     "varRefreshCmd": "cat(var_dic_list()) "
    }
   },
   "types_to_exclude": [
    "module",
    "function",
    "builtin_function_or_method",
    "instance",
    "_Feature"
   ],
   "window_display": false
  }
 },
 "nbformat": 4,
 "nbformat_minor": 2
}
